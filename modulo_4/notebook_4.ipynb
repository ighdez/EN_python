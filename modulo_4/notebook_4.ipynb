{
 "cells": [
  {
   "cell_type": "markdown",
   "metadata": {},
   "source": [
    "# Estadistica para negocios\n",
    "## Modulo 4: Inferencia estadistica\n",
    "\n",
    "En este módulo, revisaremos de forma práctica como realizar pruebas de hipótesis utilizando muestas de datos.\n",
    "\n",
    "Para ello, volveremos a tomar el rol de analistas. La gerencia está interesada en caracterizar a sus vendedores empleados. Para ello, cuenta con la base `base_ventas.xlsx`, la cual contiene las siguientes variables de una muestra 473 trabajadores:\n",
    "\n",
    "- `ventas`: Ventas del trabajador en el ultimo periodo (en miles de pesos)\n",
    "- `capacitacion`: Variable igual a 1 si el trabajador esta capacitado\n",
    "- `edad`: Edad en años\n",
    "- `educ`: Escolaridad en años\n",
    "\n",
    "Primero, cargaremos los modulos relevantes de esta sesion: `pandas`, `matplotlib` y la distribucion normal y T de Student desde `scipy.stats`:"
   ]
  },
  {
   "cell_type": "code",
   "execution_count": null,
   "metadata": {},
   "outputs": [],
   "source": [
    "import pandas as pd\n",
    "import numpy as np\n",
    "import matplotlib.pyplot as plt\n",
    "from scipy.stats import norm, t"
   ]
  },
  {
   "cell_type": "markdown",
   "metadata": {},
   "source": [
    "Luego, abriremos la base de datos y la guardamos en un objeto llamado `df`:"
   ]
  },
  {
   "cell_type": "code",
   "execution_count": null,
   "metadata": {},
   "outputs": [],
   "source": [
    "df = pd.read_excel('base_ventas.xlsx')\n",
    "df.describe()"
   ]
  },
  {
   "cell_type": "markdown",
   "metadata": {},
   "source": [
    "## Pruebas de hipotesis sobre la media\n",
    "\n",
    "### Cola inferior\n",
    "\n",
    "Supongamos que la empresa desea tener trabajadores de mayor edad en su plana. La meta es aumentar la edad promedio a al menos 40 años. Sin embargo, la empresa no cuenta con información sobre toda la plana, sino nuestra muestra de 473 trabajadores. Se sabe que la desviación estándar de la edad es igual a $\\sigma=7$.\n",
    "\n",
    "Para probar esto, usaremos una prueba de hipótesis de cola inferior. Las hipótesis nula y alternativa son:\n",
    "\n",
    "$$H_0: \\mu \\geq 40 $$\n",
    "$$H_A: \\mu < 40 $$\n",
    "\n",
    "Luego, requerimos la media muestral de la edad:"
   ]
  },
  {
   "cell_type": "code",
   "execution_count": null,
   "metadata": {},
   "outputs": [],
   "source": []
  },
  {
   "cell_type": "markdown",
   "metadata": {},
   "source": [
    "Luego, se construye el estadistico de prueba:\n",
    "\n",
    "$$ z = \\frac{\\bar{X}-40}{7/\\sqrt(473)}$$"
   ]
  },
  {
   "cell_type": "code",
   "execution_count": null,
   "metadata": {},
   "outputs": [],
   "source": []
  },
  {
   "cell_type": "markdown",
   "metadata": {},
   "source": [
    "Este valor se compara con el valor crítico de la distribución normal al 95% de confianza de una cola. Esto puede ser visto en una tabla (-1.645), o a través de Python, usando la distribución normal estándar (`norm()`) y el método `ppf()`, que entrega el valor de la distribución a una probabilidad determinada:"
   ]
  },
  {
   "cell_type": "code",
   "execution_count": null,
   "metadata": {},
   "outputs": [],
   "source": []
  },
  {
   "cell_type": "markdown",
   "metadata": {},
   "source": [
    "Es facil ver que el estadistico de prueba es **mayor** que el valor crítico de la distribución. Por lo tanto, **no se rechaza $H_0$**, por lo que no hay evidencia que pueda sustentar de que los trabajadores son menores de 40 años.\n",
    "\n",
    "## Prueba de hipótesis con varianza desconocida\n",
    "\n",
    "En la mayoria de los casos, es dificil contar con la varianza poblacional. Por esto, es necesario redefinir la prueba de hipotesis sobre la media, utilizando la **distribución T de Student**.\n",
    "\n",
    "Supongamos que la empresa requiere saber si la escolaridad promedio de los trabajadores de la empresa es 12 años. Para ello, se pleantean las siguientes hipótesis:\n",
    "\n",
    "$$H_0: \\mu = 12 $$\n",
    "$$H_A: \\mu \\neq 12 $$\n",
    "\n",
    "Requerimos la media y la desviación estándar de la escolaridad:"
   ]
  },
  {
   "cell_type": "code",
   "execution_count": null,
   "metadata": {},
   "outputs": [],
   "source": []
  },
  {
   "cell_type": "markdown",
   "metadata": {},
   "source": [
    "Luego, se construye el estadistico de prueba:\n",
    "\n",
    "$$ T = \\frac{\\bar{X}-12}{s/\\sqrt(473)}$$"
   ]
  },
  {
   "cell_type": "code",
   "execution_count": null,
   "metadata": {},
   "outputs": [],
   "source": []
  },
  {
   "cell_type": "markdown",
   "metadata": {},
   "source": [
    "Este valor se compara con el valor crítico de la distribución T de dos colas, con 472 grados de libertad, al 95% de confianza. Esto puede ser visto en una tabla (1.96), o a través de Python, usando la distribución normal estándar (`t()`) y el método `ppf()`, que entrega el valor de la distribución a una probabilidad determinada:"
   ]
  },
  {
   "cell_type": "code",
   "execution_count": null,
   "metadata": {},
   "outputs": [],
   "source": []
  },
  {
   "cell_type": "markdown",
   "metadata": {},
   "source": [
    "Es facil ver que el estadistico de prueba es **mayor** que el valor crítico de la distribución. Por lo tanto, **se rechaza $H_0$**, por lo que se puede asegurar que la escolaridad promedio es distinta de 12 años.\n",
    "\n",
    "### Prueba de hipótesis sobre proporciones\n",
    "\n",
    "Supongamos que la empresa busca saber si el nivel de trabajadores capacitados es superior al 40%. Para ello, se realizará una prueba de hipótesis de cola superior. Las hipótesis nula y alterna son:\n",
    "\n",
    "$$H_0: p \\geq 0.4 $$\n",
    "$$H_A: p < 0.4 $$\n",
    "\n",
    "La proporción muestral se obtiene directamente de la media de la variable de capacitación:"
   ]
  },
  {
   "cell_type": "code",
   "execution_count": null,
   "metadata": {},
   "outputs": [],
   "source": []
  },
  {
   "cell_type": "markdown",
   "metadata": {},
   "source": [
    "Luego, construimos el estadistico de prueba:\n",
    "\n",
    "$$ z = \\frac{\\bar{p}-0.4}{\\sqrt{(0.4(1-0.4))/473}}$$"
   ]
  },
  {
   "cell_type": "code",
   "execution_count": null,
   "metadata": {},
   "outputs": [],
   "source": []
  },
  {
   "cell_type": "markdown",
   "metadata": {},
   "source": [
    "Este valor se compara con el valor crítico de la distribución normal al 95% de confianza de una cola. Esto puede ser visto en una tabla (-1.645), o a través de Python, usando la distribución normal estándar (`norm()`) y el método `ppf()`, que entrega el valor de la distribución a una probabilidad determinada:"
   ]
  },
  {
   "cell_type": "code",
   "execution_count": null,
   "metadata": {},
   "outputs": [],
   "source": []
  },
  {
   "cell_type": "markdown",
   "metadata": {},
   "source": [
    "Es facil ver que el estadistico de prueba es **menor** que el valor crítico de la distribución. Por lo tanto, **se rechaza $H_0$**, por lo que se puede asegurar que la proporción de trabajadores capacitados es menor que 40%.\n",
    "\n",
    "## Pruebas de hipótesis con dos muestras independientes\n",
    "\n",
    "Supongamos que la empresa ahora está interesada en saber si hay una diferencia considerable de las ventas promedio entre quienes están capacitados y quienes no lo están. Para saber esto, la empresa sugiere realizar una prueba de diferencia de medias. Para esto, las hipótesis nula y alternativa son:\n",
    "\n",
    "$$H_0: \\mu_1 - \\mu_2 = 0$$\n",
    "$$H_A: \\mu_1 - \\mu_2 \\neq 0$$\n",
    "\n",
    "Donde $\\mu_1$ es la media de las ventas de quienes están capacitados, y $\\mu_2$ es la media de las ventas de quienes no lo están.\n",
    "\n",
    "Primero, vamos a separar ambas muestras:"
   ]
  },
  {
   "cell_type": "code",
   "execution_count": null,
   "metadata": {},
   "outputs": [],
   "source": []
  },
  {
   "cell_type": "markdown",
   "metadata": {},
   "source": [
    "Luego, describiremos ambas bases de datos:"
   ]
  },
  {
   "cell_type": "code",
   "execution_count": null,
   "metadata": {},
   "outputs": [],
   "source": []
  },
  {
   "cell_type": "code",
   "execution_count": null,
   "metadata": {},
   "outputs": [],
   "source": []
  },
  {
   "cell_type": "markdown",
   "metadata": {},
   "source": [
    "Las ventas promedio de quienes están capacitados son $1.798.220, mientras que las ventas promedio quienes no lo están es $1.547.348. Además, los capacitados son 165 individuos, mientras que los no capacitados son 308 individuos. Vamos a extraer esta información, además de las desviaciones estándar muestrales:"
   ]
  },
  {
   "cell_type": "code",
   "execution_count": null,
   "metadata": {},
   "outputs": [],
   "source": []
  },
  {
   "cell_type": "markdown",
   "metadata": {},
   "source": [
    "Con esta información, podemos construir el estadistico de prueba:\n",
    "\n",
    "$$ T = \\frac{(\\bar{X}_1-\\bar{X}_2)-0}{\\sqrt{\\frac{s_1^2}{165} + \\frac{s_2^2}{308}}}$$"
   ]
  },
  {
   "cell_type": "code",
   "execution_count": null,
   "metadata": {},
   "outputs": [],
   "source": []
  },
  {
   "cell_type": "markdown",
   "metadata": {},
   "source": [
    "Los grados de libertad son:\n",
    "\n",
    "$$gl = \\frac{\\left( \\frac{s_1^2}{165} + \\frac{s_2^2}{308} \\right)^2}{\\frac{1}{164}\\left( \\frac{s_1^2}{165} \\right)^2 + \\frac{1}{307} \\left( \\frac{s_2^2}{308} \\right)}$$"
   ]
  },
  {
   "cell_type": "code",
   "execution_count": null,
   "metadata": {},
   "outputs": [],
   "source": []
  },
  {
   "cell_type": "markdown",
   "metadata": {},
   "source": [
    "Como el resultado no es un numero entero, se redondea hacia abajo. Para ello. usaremos la función `floor()` de `numpy`, y convertiremos el número a un entero (`int`):"
   ]
  },
  {
   "cell_type": "code",
   "execution_count": null,
   "metadata": {},
   "outputs": [],
   "source": []
  },
  {
   "cell_type": "markdown",
   "metadata": {},
   "source": [
    "El estadistico de tabla T Student con 322 grados de libertad se aproxima a 1.96:"
   ]
  },
  {
   "cell_type": "code",
   "execution_count": null,
   "metadata": {},
   "outputs": [],
   "source": []
  },
  {
   "cell_type": "markdown",
   "metadata": {},
   "source": [
    "Es facil ver que el estadistico de prueba es **menor** que el valor crítico de la distribución. Por lo tanto, **se rechaza $H_0$**, por lo que se puede asegurar que las ventas promedio de los capacitados son considerablemente distintas a los de los no capacitados. Es más, debido a que la media de los capacitados es mayor, también se puede asegurar que **las ventas promedio de los capacitados son mayores que las de los no capacitados**.\n",
    "\n",
    "### Diferencia de proporciones\n",
    "\n",
    "Finalmente, supongamos que la empresa quiere saber si la proporción de personas capacitadas es mayor entre las personas con estudios superiores (más de 12 años de escolaridad) que quienes no tienen estudios superiores. Para ello, se puede utilizar la prueba de hipótesis para diferencia de proporciones. Las hipótesis nula y alternativa son:\n",
    "\n",
    "$$H_0: (p_1 - p_2) = 0 $$\n",
    "$$H_A: (p_1 - p_2) \\neq 0 $$\n",
    "\n",
    "Primero, vamos a separar ambas muestras de acuerdo a los años de escolaridad:"
   ]
  },
  {
   "cell_type": "code",
   "execution_count": null,
   "metadata": {},
   "outputs": [],
   "source": []
  },
  {
   "cell_type": "markdown",
   "metadata": {},
   "source": [
    "Describiendo ambas muestras:"
   ]
  },
  {
   "cell_type": "code",
   "execution_count": null,
   "metadata": {},
   "outputs": [],
   "source": []
  },
  {
   "cell_type": "code",
   "execution_count": null,
   "metadata": {},
   "outputs": [],
   "source": []
  },
  {
   "cell_type": "markdown",
   "metadata": {},
   "source": [
    "La proporción de capacitados es bastante cercana entre ambas muestras. El estadistico de prueba de diferencia de proporciones es:\n",
    "\n",
    "$$z = \\frac{(\\bar{p_1}-\\bar{p_2})}{\\sqrt{\\bar{p}(1-\\bar{p})\\left( \\frac{1}{N_1} \\frac{1}{N_2} \\right)}} \\sim N(0,1)$$\n",
    "\n",
    "Donde $p_1$ es la proporción de capacitados para quienes tienen educación superior, y $p_2$ es la proporción de capacitados para quienes no tienen educación superior. Notar que $\\bar{p}$ no es conocido, pero se puede estimar como:\n",
    "\n",
    "$$\\bar{p} = \\frac{N_1 \\bar{p_1} + N_2 \\bar{p_2}}{N_1 + N_2}$$"
   ]
  },
  {
   "cell_type": "code",
   "execution_count": null,
   "metadata": {},
   "outputs": [],
   "source": []
  },
  {
   "cell_type": "markdown",
   "metadata": {},
   "source": [
    "Luego, calculamos el estimador de $p$:"
   ]
  },
  {
   "cell_type": "code",
   "execution_count": null,
   "metadata": {},
   "outputs": [],
   "source": []
  },
  {
   "cell_type": "markdown",
   "metadata": {},
   "source": [
    "Ahora, claculamos el estadistico de prueba:"
   ]
  },
  {
   "cell_type": "code",
   "execution_count": null,
   "metadata": {},
   "outputs": [],
   "source": []
  },
  {
   "cell_type": "markdown",
   "metadata": {},
   "source": [
    "Sabemos que el valor critico de la distribucion normal estándar al 95% de confianza es 1.96:"
   ]
  },
  {
   "cell_type": "code",
   "execution_count": null,
   "metadata": {},
   "outputs": [],
   "source": []
  },
  {
   "cell_type": "markdown",
   "metadata": {},
   "source": [
    "Como el valor calculado del estadistico (en valor absoluto) es **menor** que el valor crítico, entonces **no se rechaza** la hipótesis nula. Por lo tanto, no existe evidencia para asegurar que el porcentaje de capacitados entre quienes tienen educación superior es distinto al porcentaje de capacitados entre quienes no tienen educación superior."
   ]
  }
 ],
 "metadata": {
  "kernelspec": {
   "display_name": "Python 3",
   "language": "python",
   "name": "python3"
  },
  "language_info": {
   "codemirror_mode": {
    "name": "ipython",
    "version": 3
   },
   "file_extension": ".py",
   "mimetype": "text/x-python",
   "name": "python",
   "nbconvert_exporter": "python",
   "pygments_lexer": "ipython3",
   "version": "3.9.13"
  }
 },
 "nbformat": 4,
 "nbformat_minor": 2
}
