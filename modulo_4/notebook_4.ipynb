{
 "cells": [
  {
   "cell_type": "markdown",
   "metadata": {},
   "source": [
    "# Estadistica para negocios\n",
    "## Modulo 4: Inferencia estadistica\n",
    "\n",
    "En este módulo, revisaremos de forma práctica como realizar pruebas de hipótesis utilizando muestas de datos.\n",
    "\n",
    "Para ello, volveremos a tomar el rol de analistas. La gerencia está interesada en caracterizar a sus vendedores empleados. Para ello, cuenta con la base `base_ventas.xlsx`, la cual contiene las siguientes variables de una muestra 473 trabajadores:\n",
    "\n",
    "- `ventas`: Ventas del trabajador en el ultimo periodo (en miles de pesos)\n",
    "- `capacitacion`: Variable igual a 1 si el trabajador esta capacitado\n",
    "- `edad`: Edad en años\n",
    "- `educ`: Escolaridad en años\n",
    "\n",
    "Primero, cargaremos los modulos relevantes de esta sesion: `pandas`, `matplotlib` y la distribucion normal y T de Student desde `scipy.stats`:"
   ]
  },
  {
   "cell_type": "code",
   "execution_count": 1,
   "metadata": {},
   "outputs": [],
   "source": [
    "import pandas as pd\n",
    "import numpy as np\n",
    "import matplotlib.pyplot as plt\n",
    "from scipy.stats import norm, t"
   ]
  },
  {
   "cell_type": "markdown",
   "metadata": {},
   "source": [
    "Luego, abriremos la base de datos y la guardamos en un objeto llamado `df`:"
   ]
  },
  {
   "cell_type": "code",
   "execution_count": 2,
   "metadata": {},
   "outputs": [
    {
     "data": {
      "text/html": [
       "<div>\n",
       "<style scoped>\n",
       "    .dataframe tbody tr th:only-of-type {\n",
       "        vertical-align: middle;\n",
       "    }\n",
       "\n",
       "    .dataframe tbody tr th {\n",
       "        vertical-align: top;\n",
       "    }\n",
       "\n",
       "    .dataframe thead th {\n",
       "        text-align: right;\n",
       "    }\n",
       "</style>\n",
       "<table border=\"1\" class=\"dataframe\">\n",
       "  <thead>\n",
       "    <tr style=\"text-align: right;\">\n",
       "      <th></th>\n",
       "      <th>ventas</th>\n",
       "      <th>capacitacion</th>\n",
       "      <th>edad</th>\n",
       "      <th>educ</th>\n",
       "    </tr>\n",
       "  </thead>\n",
       "  <tbody>\n",
       "    <tr>\n",
       "      <th>count</th>\n",
       "      <td>473.000000</td>\n",
       "      <td>473.000000</td>\n",
       "      <td>473.000000</td>\n",
       "      <td>473.000000</td>\n",
       "    </tr>\n",
       "    <tr>\n",
       "      <th>mean</th>\n",
       "      <td>1634.861653</td>\n",
       "      <td>0.348837</td>\n",
       "      <td>42.987315</td>\n",
       "      <td>12.143763</td>\n",
       "    </tr>\n",
       "    <tr>\n",
       "      <th>std</th>\n",
       "      <td>1279.665906</td>\n",
       "      <td>0.477107</td>\n",
       "      <td>6.676852</td>\n",
       "      <td>1.207835</td>\n",
       "    </tr>\n",
       "    <tr>\n",
       "      <th>min</th>\n",
       "      <td>35.894160</td>\n",
       "      <td>0.000000</td>\n",
       "      <td>23.000000</td>\n",
       "      <td>8.000000</td>\n",
       "    </tr>\n",
       "    <tr>\n",
       "      <th>25%</th>\n",
       "      <td>596.091861</td>\n",
       "      <td>0.000000</td>\n",
       "      <td>38.000000</td>\n",
       "      <td>12.000000</td>\n",
       "    </tr>\n",
       "    <tr>\n",
       "      <th>50%</th>\n",
       "      <td>1291.804155</td>\n",
       "      <td>0.000000</td>\n",
       "      <td>42.000000</td>\n",
       "      <td>12.000000</td>\n",
       "    </tr>\n",
       "    <tr>\n",
       "      <th>75%</th>\n",
       "      <td>2378.664494</td>\n",
       "      <td>1.000000</td>\n",
       "      <td>48.000000</td>\n",
       "      <td>12.000000</td>\n",
       "    </tr>\n",
       "    <tr>\n",
       "      <th>max</th>\n",
       "      <td>4999.109503</td>\n",
       "      <td>1.000000</td>\n",
       "      <td>63.000000</td>\n",
       "      <td>19.000000</td>\n",
       "    </tr>\n",
       "  </tbody>\n",
       "</table>\n",
       "</div>"
      ],
      "text/plain": [
       "            ventas  capacitacion        edad        educ\n",
       "count   473.000000    473.000000  473.000000  473.000000\n",
       "mean   1634.861653      0.348837   42.987315   12.143763\n",
       "std    1279.665906      0.477107    6.676852    1.207835\n",
       "min      35.894160      0.000000   23.000000    8.000000\n",
       "25%     596.091861      0.000000   38.000000   12.000000\n",
       "50%    1291.804155      0.000000   42.000000   12.000000\n",
       "75%    2378.664494      1.000000   48.000000   12.000000\n",
       "max    4999.109503      1.000000   63.000000   19.000000"
      ]
     },
     "execution_count": 2,
     "metadata": {},
     "output_type": "execute_result"
    }
   ],
   "source": [
    "df = pd.read_excel('base_ventas.xlsx')\n",
    "df.describe()"
   ]
  },
  {
   "cell_type": "markdown",
   "metadata": {},
   "source": [
    "## Pruebas de hipotesis sobre la media\n",
    "\n",
    "### Cola inferior\n",
    "\n",
    "Supongamos que la empresa desea tener trabajadores de mayor edad en su plana. La meta es aumentar la edad promedio a al menos 40 años. Sin embargo, la empresa no cuenta con información sobre toda la plana, sino nuestra muestra de 473 trabajadores. Se sabe que la desviación estándar de la edad es igual a $\\sigma=7$.\n",
    "\n",
    "Para probar esto, usaremos una prueba de hipótesis de cola inferior. Las hipótesis nula y alternativa son:\n",
    "\n",
    "$$H_0: \\mu \\geq 40 $$\n",
    "$$H_A: \\mu < 40 $$\n",
    "\n",
    "Luego, requerimos la media muestral de la edad:"
   ]
  },
  {
   "cell_type": "code",
   "execution_count": 3,
   "metadata": {},
   "outputs": [],
   "source": [
    "media_edad = df['edad'].mean()"
   ]
  },
  {
   "cell_type": "markdown",
   "metadata": {},
   "source": [
    "Luego, se construye el estadistico de prueba:\n",
    "\n",
    "$$ z = \\frac{\\bar{X}-40}{7/\\sqrt(473)}$$"
   ]
  },
  {
   "cell_type": "code",
   "execution_count": 4,
   "metadata": {},
   "outputs": [
    {
     "data": {
      "text/plain": [
       "9.281401316981661"
      ]
     },
     "execution_count": 4,
     "metadata": {},
     "output_type": "execute_result"
    }
   ],
   "source": [
    "z = (media_edad-40)/(7/np.sqrt(473))\n",
    "z"
   ]
  },
  {
   "cell_type": "markdown",
   "metadata": {},
   "source": [
    "Este valor se compara con el valor crítico de la distribución normal al 95% de confianza de una cola. Esto puede ser visto en una tabla (-1.645), o a través de Python, usando la distribución normal estándar (`norm()`) y el método `ppf()`, que entrega el valor de la distribución a una probabilidad determinada:"
   ]
  },
  {
   "cell_type": "code",
   "execution_count": 5,
   "metadata": {},
   "outputs": [
    {
     "data": {
      "text/plain": [
       "-1.6448536269514729"
      ]
     },
     "execution_count": 5,
     "metadata": {},
     "output_type": "execute_result"
    }
   ],
   "source": [
    "z_tabla = norm().ppf(0.05)\n",
    "z_tabla"
   ]
  },
  {
   "cell_type": "markdown",
   "metadata": {},
   "source": [
    "Es facil ver que el estadistico de prueba es **mayor** que el valor crítico de la distribución. Por lo tanto, **no se rechaza $H_0$**, por lo que no hay evidencia que pueda sustentar de que los trabajadores son menores de 40 años.\n",
    "\n",
    "## Prueba de hipótesis con varianza desconocida\n",
    "\n",
    "En la mayoria de los casos, es dificil contar con la varianza poblacional. Por esto, es necesario redefinir la prueba de hipotesis sobre la media, utilizando la **distribución T de Student**.\n",
    "\n",
    "Supongamos que la empresa requiere saber si la escolaridad promedio de los trabajadores de la empresa es 12 años. Para ello, se pleantean las siguientes hipótesis:\n",
    "\n",
    "$$H_0: \\mu = 12 $$\n",
    "$$H_A: \\mu \\neq 12 $$\n",
    "\n",
    "Requerimos la media y la desviación estándar de la escolaridad:"
   ]
  },
  {
   "cell_type": "code",
   "execution_count": 6,
   "metadata": {},
   "outputs": [
    {
     "name": "stdout",
     "output_type": "stream",
     "text": [
      "12.143763217563105 1.2078346823845687\n"
     ]
    }
   ],
   "source": [
    "media_esc = df['educ'].mean()\n",
    "sd_esc = df['educ'].std()\n",
    "\n",
    "print(media_esc,sd_esc)"
   ]
  },
  {
   "cell_type": "markdown",
   "metadata": {},
   "source": [
    "Luego, se construye el estadistico de prueba:\n",
    "\n",
    "$$ T = \\frac{\\bar{X}-12}{s/\\sqrt(473)}$$"
   ]
  },
  {
   "cell_type": "code",
   "execution_count": 7,
   "metadata": {},
   "outputs": [
    {
     "data": {
      "text/plain": [
       "2.588635236615983"
      ]
     },
     "execution_count": 7,
     "metadata": {},
     "output_type": "execute_result"
    }
   ],
   "source": [
    "T_stat = (media_esc-12)/(sd_esc/np.sqrt(473))\n",
    "T_stat"
   ]
  },
  {
   "cell_type": "markdown",
   "metadata": {},
   "source": [
    "Este valor se compara con el valor crítico de la distribución T de dos colas, con 472 grados de libertad, al 95% de confianza. Esto puede ser visto en una tabla (1.96), o a través de Python, usando la distribución normal estándar (`t()`) y el método `ppf()`, que entrega el valor de la distribución a una probabilidad determinada:"
   ]
  },
  {
   "cell_type": "code",
   "execution_count": 8,
   "metadata": {},
   "outputs": [
    {
     "data": {
      "text/plain": [
       "1.9649919970066514"
      ]
     },
     "execution_count": 8,
     "metadata": {},
     "output_type": "execute_result"
    }
   ],
   "source": [
    "t_calculado = t(df=473).ppf(0.975)\n",
    "t_calculado"
   ]
  },
  {
   "cell_type": "markdown",
   "metadata": {},
   "source": [
    "Es facil ver que el estadistico de prueba es **mayor** que el valor crítico de la distribución. Por lo tanto, **se rechaza $H_0$**, por lo que se puede asegurar que la escolaridad promedio es distinta de 12 años.\n",
    "\n",
    "### Prueba de hipótesis sobre proporciones\n",
    "\n",
    "Supongamos que la empresa busca saber si el nivel de trabajadores capacitados es superior al 40%. Para ello, se realizará una prueba de hipótesis de cola superior. Las hipótesis nula y alterna son:\n",
    "\n",
    "$$H_0: p \\geq 0.4 $$\n",
    "$$H_A: p < 0.4 $$\n",
    "\n",
    "La proporción muestral se obtiene directamente de la media de la variable de capacitación:"
   ]
  },
  {
   "cell_type": "code",
   "execution_count": 9,
   "metadata": {},
   "outputs": [
    {
     "data": {
      "text/plain": [
       "0.3488372093023256"
      ]
     },
     "execution_count": 9,
     "metadata": {},
     "output_type": "execute_result"
    }
   ],
   "source": [
    "media_cap = df['capacitacion'].mean()\n",
    "media_cap"
   ]
  },
  {
   "cell_type": "markdown",
   "metadata": {},
   "source": [
    "Luego, construimos el estadistico de prueba:\n",
    "\n",
    "$$ z = \\frac{\\bar{p}-0.4}{\\sqrt{(0.4(1-0.4))/473}}$$"
   ]
  },
  {
   "cell_type": "code",
   "execution_count": 10,
   "metadata": {},
   "outputs": [
    {
     "data": {
      "text/plain": [
       "-2.271324443729291"
      ]
     },
     "execution_count": 10,
     "metadata": {},
     "output_type": "execute_result"
    }
   ],
   "source": [
    "z = (media_cap-0.4)/np.sqrt(0.4*(1-0.4)/473)\n",
    "z"
   ]
  },
  {
   "cell_type": "markdown",
   "metadata": {},
   "source": [
    "Este valor se compara con el valor crítico de la distribución normal al 95% de confianza de una cola. Esto puede ser visto en una tabla (-1.645), o a través de Python, usando la distribución normal estándar (`norm()`) y el método `ppf()`, que entrega el valor de la distribución a una probabilidad determinada:"
   ]
  },
  {
   "cell_type": "code",
   "execution_count": 11,
   "metadata": {},
   "outputs": [
    {
     "data": {
      "text/plain": [
       "-1.6448536269514729"
      ]
     },
     "execution_count": 11,
     "metadata": {},
     "output_type": "execute_result"
    }
   ],
   "source": [
    "z_tabla = norm().ppf(0.05)\n",
    "z_tabla"
   ]
  },
  {
   "cell_type": "markdown",
   "metadata": {},
   "source": [
    "Es facil ver que el estadistico de prueba es **menor** que el valor crítico de la distribución. Por lo tanto, **se rechaza $H_0$**, por lo que se puede asegurar que la proporción de trabajadores capacitados es menor que 40%.\n",
    "\n",
    "## Pruebas de hipótesis con dos muestras independientes\n",
    "\n",
    "Supongamos que la empresa ahora está interesada en saber si hay una diferencia considerable de las ventas promedio entre quienes están capacitados y quienes no lo están. Para saber esto, la empresa sugiere realizar una prueba de diferencia de medias. Para esto, las hipótesis nula y alternativa son:\n",
    "\n",
    "$$H_0: \\mu_1 - \\mu_2 = 0$$\n",
    "$$H_A: \\mu_1 - \\mu_2 \\neq 0$$\n",
    "\n",
    "Donde $\\mu_1$ es la media de las ventas de quienes están capacitados, y $\\mu_2$ es la media de las ventas de quienes no lo están.\n",
    "\n",
    "Primero, vamos a separar ambas muestras:"
   ]
  },
  {
   "cell_type": "code",
   "execution_count": 12,
   "metadata": {},
   "outputs": [],
   "source": [
    "df1 = df[df['capacitacion'] == 1]\n",
    "df2 = df[df['capacitacion'] == 0]"
   ]
  },
  {
   "cell_type": "markdown",
   "metadata": {},
   "source": [
    "Luego, describiremos ambas bases de datos:"
   ]
  },
  {
   "cell_type": "code",
   "execution_count": 13,
   "metadata": {},
   "outputs": [
    {
     "data": {
      "text/html": [
       "<div>\n",
       "<style scoped>\n",
       "    .dataframe tbody tr th:only-of-type {\n",
       "        vertical-align: middle;\n",
       "    }\n",
       "\n",
       "    .dataframe tbody tr th {\n",
       "        vertical-align: top;\n",
       "    }\n",
       "\n",
       "    .dataframe thead th {\n",
       "        text-align: right;\n",
       "    }\n",
       "</style>\n",
       "<table border=\"1\" class=\"dataframe\">\n",
       "  <thead>\n",
       "    <tr style=\"text-align: right;\">\n",
       "      <th></th>\n",
       "      <th>ventas</th>\n",
       "      <th>capacitacion</th>\n",
       "      <th>edad</th>\n",
       "      <th>educ</th>\n",
       "    </tr>\n",
       "  </thead>\n",
       "  <tbody>\n",
       "    <tr>\n",
       "      <th>count</th>\n",
       "      <td>165.000000</td>\n",
       "      <td>165.0</td>\n",
       "      <td>165.000000</td>\n",
       "      <td>165.000000</td>\n",
       "    </tr>\n",
       "    <tr>\n",
       "      <th>mean</th>\n",
       "      <td>1798.219761</td>\n",
       "      <td>1.0</td>\n",
       "      <td>41.569697</td>\n",
       "      <td>12.018182</td>\n",
       "    </tr>\n",
       "    <tr>\n",
       "      <th>std</th>\n",
       "      <td>1312.078064</td>\n",
       "      <td>0.0</td>\n",
       "      <td>6.357466</td>\n",
       "      <td>1.172514</td>\n",
       "    </tr>\n",
       "    <tr>\n",
       "      <th>min</th>\n",
       "      <td>51.472872</td>\n",
       "      <td>1.0</td>\n",
       "      <td>23.000000</td>\n",
       "      <td>8.000000</td>\n",
       "    </tr>\n",
       "    <tr>\n",
       "      <th>25%</th>\n",
       "      <td>737.963826</td>\n",
       "      <td>1.0</td>\n",
       "      <td>37.000000</td>\n",
       "      <td>12.000000</td>\n",
       "    </tr>\n",
       "    <tr>\n",
       "      <th>50%</th>\n",
       "      <td>1448.197324</td>\n",
       "      <td>1.0</td>\n",
       "      <td>41.000000</td>\n",
       "      <td>12.000000</td>\n",
       "    </tr>\n",
       "    <tr>\n",
       "      <th>75%</th>\n",
       "      <td>2608.277082</td>\n",
       "      <td>1.0</td>\n",
       "      <td>46.000000</td>\n",
       "      <td>12.000000</td>\n",
       "    </tr>\n",
       "    <tr>\n",
       "      <th>max</th>\n",
       "      <td>4902.619015</td>\n",
       "      <td>1.0</td>\n",
       "      <td>57.000000</td>\n",
       "      <td>16.000000</td>\n",
       "    </tr>\n",
       "  </tbody>\n",
       "</table>\n",
       "</div>"
      ],
      "text/plain": [
       "            ventas  capacitacion        edad        educ\n",
       "count   165.000000         165.0  165.000000  165.000000\n",
       "mean   1798.219761           1.0   41.569697   12.018182\n",
       "std    1312.078064           0.0    6.357466    1.172514\n",
       "min      51.472872           1.0   23.000000    8.000000\n",
       "25%     737.963826           1.0   37.000000   12.000000\n",
       "50%    1448.197324           1.0   41.000000   12.000000\n",
       "75%    2608.277082           1.0   46.000000   12.000000\n",
       "max    4902.619015           1.0   57.000000   16.000000"
      ]
     },
     "execution_count": 13,
     "metadata": {},
     "output_type": "execute_result"
    }
   ],
   "source": [
    "df1.describe()"
   ]
  },
  {
   "cell_type": "code",
   "execution_count": 14,
   "metadata": {},
   "outputs": [
    {
     "data": {
      "text/html": [
       "<div>\n",
       "<style scoped>\n",
       "    .dataframe tbody tr th:only-of-type {\n",
       "        vertical-align: middle;\n",
       "    }\n",
       "\n",
       "    .dataframe tbody tr th {\n",
       "        vertical-align: top;\n",
       "    }\n",
       "\n",
       "    .dataframe thead th {\n",
       "        text-align: right;\n",
       "    }\n",
       "</style>\n",
       "<table border=\"1\" class=\"dataframe\">\n",
       "  <thead>\n",
       "    <tr style=\"text-align: right;\">\n",
       "      <th></th>\n",
       "      <th>ventas</th>\n",
       "      <th>capacitacion</th>\n",
       "      <th>edad</th>\n",
       "      <th>educ</th>\n",
       "    </tr>\n",
       "  </thead>\n",
       "  <tbody>\n",
       "    <tr>\n",
       "      <th>count</th>\n",
       "      <td>308.000000</td>\n",
       "      <td>308.0</td>\n",
       "      <td>308.000000</td>\n",
       "      <td>308.000000</td>\n",
       "    </tr>\n",
       "    <tr>\n",
       "      <th>mean</th>\n",
       "      <td>1547.348381</td>\n",
       "      <td>0.0</td>\n",
       "      <td>43.746753</td>\n",
       "      <td>12.211039</td>\n",
       "    </tr>\n",
       "    <tr>\n",
       "      <th>std</th>\n",
       "      <td>1255.379486</td>\n",
       "      <td>0.0</td>\n",
       "      <td>6.729837</td>\n",
       "      <td>1.222912</td>\n",
       "    </tr>\n",
       "    <tr>\n",
       "      <th>min</th>\n",
       "      <td>35.894160</td>\n",
       "      <td>0.0</td>\n",
       "      <td>25.000000</td>\n",
       "      <td>9.000000</td>\n",
       "    </tr>\n",
       "    <tr>\n",
       "      <th>25%</th>\n",
       "      <td>540.223523</td>\n",
       "      <td>0.0</td>\n",
       "      <td>39.000000</td>\n",
       "      <td>12.000000</td>\n",
       "    </tr>\n",
       "    <tr>\n",
       "      <th>50%</th>\n",
       "      <td>1195.804903</td>\n",
       "      <td>0.0</td>\n",
       "      <td>44.000000</td>\n",
       "      <td>12.000000</td>\n",
       "    </tr>\n",
       "    <tr>\n",
       "      <th>75%</th>\n",
       "      <td>2208.895938</td>\n",
       "      <td>0.0</td>\n",
       "      <td>49.000000</td>\n",
       "      <td>12.000000</td>\n",
       "    </tr>\n",
       "    <tr>\n",
       "      <th>max</th>\n",
       "      <td>4999.109503</td>\n",
       "      <td>0.0</td>\n",
       "      <td>63.000000</td>\n",
       "      <td>19.000000</td>\n",
       "    </tr>\n",
       "  </tbody>\n",
       "</table>\n",
       "</div>"
      ],
      "text/plain": [
       "            ventas  capacitacion        edad        educ\n",
       "count   308.000000         308.0  308.000000  308.000000\n",
       "mean   1547.348381           0.0   43.746753   12.211039\n",
       "std    1255.379486           0.0    6.729837    1.222912\n",
       "min      35.894160           0.0   25.000000    9.000000\n",
       "25%     540.223523           0.0   39.000000   12.000000\n",
       "50%    1195.804903           0.0   44.000000   12.000000\n",
       "75%    2208.895938           0.0   49.000000   12.000000\n",
       "max    4999.109503           0.0   63.000000   19.000000"
      ]
     },
     "execution_count": 14,
     "metadata": {},
     "output_type": "execute_result"
    }
   ],
   "source": [
    "df2.describe()"
   ]
  },
  {
   "cell_type": "markdown",
   "metadata": {},
   "source": [
    "Las ventas promedio de quienes están capacitados son $1.798.220, mientras que las ventas promedio quienes no lo están es $1.547.348. Además, los capacitados son 165 individuos, mientras que los no capacitados son 308 individuos. Vamos a extraer esta información, además de las desviaciones estándar muestrales:"
   ]
  },
  {
   "cell_type": "code",
   "execution_count": 15,
   "metadata": {},
   "outputs": [],
   "source": [
    "df1_media = df1['ventas'].mean()\n",
    "df2_media = df2['ventas'].mean()\n",
    "\n",
    "df1_sd = df1['ventas'].std()\n",
    "df2_sd = df2['ventas'].std()\n",
    "\n",
    "df1_n = len(df1)\n",
    "df2_n = len(df2)"
   ]
  },
  {
   "cell_type": "code",
   "execution_count": 16,
   "metadata": {},
   "outputs": [
    {
     "data": {
      "text/plain": [
       "165"
      ]
     },
     "execution_count": 16,
     "metadata": {},
     "output_type": "execute_result"
    }
   ],
   "source": [
    "df1_n"
   ]
  },
  {
   "cell_type": "markdown",
   "metadata": {},
   "source": [
    "Con esta información, podemos construir el estadistico de prueba:\n",
    "\n",
    "$$ T = \\frac{(\\bar{X}_1-\\bar{X}_2)-0}{\\sqrt{\\frac{s_1^2}{165} + \\frac{s_2^2}{308}}}$$"
   ]
  },
  {
   "cell_type": "code",
   "execution_count": 17,
   "metadata": {},
   "outputs": [
    {
     "data": {
      "text/plain": [
       "2.011776724495604"
      ]
     },
     "execution_count": 17,
     "metadata": {},
     "output_type": "execute_result"
    }
   ],
   "source": [
    "T_stat = (df1_media - df2_media - 0)/np.sqrt(((df1_sd**2)/df1_n) + ((df2_sd**2)/df2_n))\n",
    "T_stat"
   ]
  },
  {
   "cell_type": "markdown",
   "metadata": {},
   "source": [
    "Los grados de libertad son:\n",
    "\n",
    "$$gl = \\frac{\\left( \\frac{s_1^2}{165} + \\frac{s_2^2}{308} \\right)^2}{\\frac{1}{164}\\left( \\frac{s_1^2}{165} \\right)^2 + \\frac{1}{307} \\left( \\frac{s_2^2}{308} \\right)}$$"
   ]
  },
  {
   "cell_type": "code",
   "execution_count": 18,
   "metadata": {},
   "outputs": [
    {
     "data": {
      "text/plain": [
       "322.82323117339956"
      ]
     },
     "execution_count": 18,
     "metadata": {},
     "output_type": "execute_result"
    }
   ],
   "source": [
    "gl = ((((df1_sd**2)/df1_n) + ((df2_sd**2)/df2_n))**2)/((1/(df1_n-1))*((df1_sd**2)/df1_n)**2 + (1/(df2_n-1))*((df2_sd**2)/df2_n)**2)\n",
    "gl"
   ]
  },
  {
   "cell_type": "markdown",
   "metadata": {},
   "source": [
    "Como el resultado no es un numero entero, se redondea hacia abajo. Para ello. usaremos la función `floor()` de `numpy`, y convertiremos el número a un entero (`int`):"
   ]
  },
  {
   "cell_type": "code",
   "execution_count": 19,
   "metadata": {},
   "outputs": [
    {
     "data": {
      "text/plain": [
       "322"
      ]
     },
     "execution_count": 19,
     "metadata": {},
     "output_type": "execute_result"
    }
   ],
   "source": [
    "gl = int(np.floor(gl))\n",
    "gl"
   ]
  },
  {
   "cell_type": "markdown",
   "metadata": {},
   "source": [
    "El estadistico de tabla T Student con 322 grados de libertad se aproxima a 1.96:"
   ]
  },
  {
   "cell_type": "code",
   "execution_count": 20,
   "metadata": {},
   "outputs": [
    {
     "data": {
      "text/plain": [
       "1.967358585322468"
      ]
     },
     "execution_count": 20,
     "metadata": {},
     "output_type": "execute_result"
    }
   ],
   "source": [
    "t_calculado = t(df=gl).ppf(0.975)\n",
    "t_calculado"
   ]
  },
  {
   "cell_type": "markdown",
   "metadata": {},
   "source": [
    "Es facil ver que el estadistico de prueba es **menor** que el valor crítico de la distribución. Por lo tanto, **se rechaza $H_0$**, por lo que se puede asegurar que las ventas promedio de los capacitados son considerablemente distintas a los de los no capacitados. Es más, debido a que la media de los capacitados es mayor, también se puede asegurar que **las ventas promedio de los capacitados son mayores que las de los no capacitados**.\n",
    "\n",
    "### Diferencia de proporciones\n",
    "\n",
    "Finalmente, supongamos que la empresa quiere saber si la proporción de personas capacitadas es mayor entre las personas con estudios superiores (más de 12 años de escolaridad) que quienes no tienen estudios superiores. Para ello, se puede utilizar la prueba de hipótesis para diferencia de proporciones. Las hipótesis nula y alternativa son:\n",
    "\n",
    "$$H_0: (p_1 - p_2) = 0 $$\n",
    "$$H_A: (p_1 - p_2) \\neq 0 $$\n",
    "\n",
    "Primero, vamos a separar ambas muestras de acuerdo a los años de escolaridad:"
   ]
  },
  {
   "cell_type": "code",
   "execution_count": 21,
   "metadata": {},
   "outputs": [],
   "source": [
    "df1 = df[df['educ'] > 12]\n",
    "df2 = df[df['educ'] <= 12]"
   ]
  },
  {
   "cell_type": "markdown",
   "metadata": {},
   "source": [
    "Describiendo ambas muestras:"
   ]
  },
  {
   "cell_type": "code",
   "execution_count": 23,
   "metadata": {},
   "outputs": [
    {
     "data": {
      "text/html": [
       "<div>\n",
       "<style scoped>\n",
       "    .dataframe tbody tr th:only-of-type {\n",
       "        vertical-align: middle;\n",
       "    }\n",
       "\n",
       "    .dataframe tbody tr th {\n",
       "        vertical-align: top;\n",
       "    }\n",
       "\n",
       "    .dataframe thead th {\n",
       "        text-align: right;\n",
       "    }\n",
       "</style>\n",
       "<table border=\"1\" class=\"dataframe\">\n",
       "  <thead>\n",
       "    <tr style=\"text-align: right;\">\n",
       "      <th></th>\n",
       "      <th>ventas</th>\n",
       "      <th>capacitacion</th>\n",
       "      <th>edad</th>\n",
       "      <th>educ</th>\n",
       "    </tr>\n",
       "  </thead>\n",
       "  <tbody>\n",
       "    <tr>\n",
       "      <th>count</th>\n",
       "      <td>109.000000</td>\n",
       "      <td>109.000000</td>\n",
       "      <td>109.000000</td>\n",
       "      <td>109.000000</td>\n",
       "    </tr>\n",
       "    <tr>\n",
       "      <th>mean</th>\n",
       "      <td>1480.609307</td>\n",
       "      <td>0.348624</td>\n",
       "      <td>42.541284</td>\n",
       "      <td>13.692661</td>\n",
       "    </tr>\n",
       "    <tr>\n",
       "      <th>std</th>\n",
       "      <td>1272.520458</td>\n",
       "      <td>0.478736</td>\n",
       "      <td>6.877947</td>\n",
       "      <td>1.159957</td>\n",
       "    </tr>\n",
       "    <tr>\n",
       "      <th>min</th>\n",
       "      <td>83.966237</td>\n",
       "      <td>0.000000</td>\n",
       "      <td>23.000000</td>\n",
       "      <td>12.100000</td>\n",
       "    </tr>\n",
       "    <tr>\n",
       "      <th>25%</th>\n",
       "      <td>456.310859</td>\n",
       "      <td>0.000000</td>\n",
       "      <td>38.000000</td>\n",
       "      <td>13.000000</td>\n",
       "    </tr>\n",
       "    <tr>\n",
       "      <th>50%</th>\n",
       "      <td>1101.683146</td>\n",
       "      <td>0.000000</td>\n",
       "      <td>42.000000</td>\n",
       "      <td>13.500000</td>\n",
       "    </tr>\n",
       "    <tr>\n",
       "      <th>75%</th>\n",
       "      <td>2166.362614</td>\n",
       "      <td>1.000000</td>\n",
       "      <td>47.000000</td>\n",
       "      <td>14.000000</td>\n",
       "    </tr>\n",
       "    <tr>\n",
       "      <th>max</th>\n",
       "      <td>4914.940393</td>\n",
       "      <td>1.000000</td>\n",
       "      <td>59.000000</td>\n",
       "      <td>19.000000</td>\n",
       "    </tr>\n",
       "  </tbody>\n",
       "</table>\n",
       "</div>"
      ],
      "text/plain": [
       "            ventas  capacitacion        edad        educ\n",
       "count   109.000000    109.000000  109.000000  109.000000\n",
       "mean   1480.609307      0.348624   42.541284   13.692661\n",
       "std    1272.520458      0.478736    6.877947    1.159957\n",
       "min      83.966237      0.000000   23.000000   12.100000\n",
       "25%     456.310859      0.000000   38.000000   13.000000\n",
       "50%    1101.683146      0.000000   42.000000   13.500000\n",
       "75%    2166.362614      1.000000   47.000000   14.000000\n",
       "max    4914.940393      1.000000   59.000000   19.000000"
      ]
     },
     "execution_count": 23,
     "metadata": {},
     "output_type": "execute_result"
    }
   ],
   "source": [
    "df1.describe()"
   ]
  },
  {
   "cell_type": "code",
   "execution_count": 24,
   "metadata": {},
   "outputs": [
    {
     "data": {
      "text/html": [
       "<div>\n",
       "<style scoped>\n",
       "    .dataframe tbody tr th:only-of-type {\n",
       "        vertical-align: middle;\n",
       "    }\n",
       "\n",
       "    .dataframe tbody tr th {\n",
       "        vertical-align: top;\n",
       "    }\n",
       "\n",
       "    .dataframe thead th {\n",
       "        text-align: right;\n",
       "    }\n",
       "</style>\n",
       "<table border=\"1\" class=\"dataframe\">\n",
       "  <thead>\n",
       "    <tr style=\"text-align: right;\">\n",
       "      <th></th>\n",
       "      <th>ventas</th>\n",
       "      <th>capacitacion</th>\n",
       "      <th>edad</th>\n",
       "      <th>educ</th>\n",
       "    </tr>\n",
       "  </thead>\n",
       "  <tbody>\n",
       "    <tr>\n",
       "      <th>count</th>\n",
       "      <td>364.000000</td>\n",
       "      <td>364.000000</td>\n",
       "      <td>364.000000</td>\n",
       "      <td>364.000000</td>\n",
       "    </tr>\n",
       "    <tr>\n",
       "      <th>mean</th>\n",
       "      <td>1681.052603</td>\n",
       "      <td>0.348901</td>\n",
       "      <td>43.120879</td>\n",
       "      <td>11.679945</td>\n",
       "    </tr>\n",
       "    <tr>\n",
       "      <th>std</th>\n",
       "      <td>1279.920912</td>\n",
       "      <td>0.477279</td>\n",
       "      <td>6.619256</td>\n",
       "      <td>0.748669</td>\n",
       "    </tr>\n",
       "    <tr>\n",
       "      <th>min</th>\n",
       "      <td>35.894160</td>\n",
       "      <td>0.000000</td>\n",
       "      <td>25.000000</td>\n",
       "      <td>8.000000</td>\n",
       "    </tr>\n",
       "    <tr>\n",
       "      <th>25%</th>\n",
       "      <td>612.294158</td>\n",
       "      <td>0.000000</td>\n",
       "      <td>38.000000</td>\n",
       "      <td>12.000000</td>\n",
       "    </tr>\n",
       "    <tr>\n",
       "      <th>50%</th>\n",
       "      <td>1350.782846</td>\n",
       "      <td>0.000000</td>\n",
       "      <td>42.500000</td>\n",
       "      <td>12.000000</td>\n",
       "    </tr>\n",
       "    <tr>\n",
       "      <th>75%</th>\n",
       "      <td>2482.408522</td>\n",
       "      <td>1.000000</td>\n",
       "      <td>48.000000</td>\n",
       "      <td>12.000000</td>\n",
       "    </tr>\n",
       "    <tr>\n",
       "      <th>max</th>\n",
       "      <td>4999.109503</td>\n",
       "      <td>1.000000</td>\n",
       "      <td>63.000000</td>\n",
       "      <td>12.000000</td>\n",
       "    </tr>\n",
       "  </tbody>\n",
       "</table>\n",
       "</div>"
      ],
      "text/plain": [
       "            ventas  capacitacion        edad        educ\n",
       "count   364.000000    364.000000  364.000000  364.000000\n",
       "mean   1681.052603      0.348901   43.120879   11.679945\n",
       "std    1279.920912      0.477279    6.619256    0.748669\n",
       "min      35.894160      0.000000   25.000000    8.000000\n",
       "25%     612.294158      0.000000   38.000000   12.000000\n",
       "50%    1350.782846      0.000000   42.500000   12.000000\n",
       "75%    2482.408522      1.000000   48.000000   12.000000\n",
       "max    4999.109503      1.000000   63.000000   12.000000"
      ]
     },
     "execution_count": 24,
     "metadata": {},
     "output_type": "execute_result"
    }
   ],
   "source": [
    "df2.describe()\n"
   ]
  },
  {
   "cell_type": "markdown",
   "metadata": {},
   "source": [
    "La proporción de capacitados es bastante cercana entre ambas muestras. El estadistico de prueba de diferencia de proporciones es:\n",
    "\n",
    "$$z = \\frac{(\\bar{p_1}-\\bar{p_2})}{\\sqrt{\\bar{p}(1-\\bar{p})\\left( \\frac{1}{N_1} \\frac{1}{N_2} \\right)}} \\sim N(0,1)$$\n",
    "\n",
    "Donde $p_1$ es la proporción de capacitados para quienes tienen educación superior, y $p_2$ es la proporción de capacitados para quienes no tienen educación superior. Notar que $\\bar{p}$ no es conocido, pero se puede estimar como:\n",
    "\n",
    "$$\\bar{p} = \\frac{N_1 \\bar{p_1} + N_2 \\bar{p_2}}{N_1 + N_2}$$"
   ]
  },
  {
   "cell_type": "code",
   "execution_count": 22,
   "metadata": {},
   "outputs": [],
   "source": [
    "df1_prop = df1['capacitacion'].mean()\n",
    "df2_prop = df2['capacitacion'].mean()\n",
    "\n",
    "df1_n = len(df1)\n",
    "df2_n = len(df2)"
   ]
  },
  {
   "cell_type": "markdown",
   "metadata": {},
   "source": [
    "Luego, calculamos el estimador de $p$:"
   ]
  },
  {
   "cell_type": "code",
   "execution_count": 25,
   "metadata": {},
   "outputs": [
    {
     "data": {
      "text/plain": [
       "0.3488372093023256"
      ]
     },
     "execution_count": 25,
     "metadata": {},
     "output_type": "execute_result"
    }
   ],
   "source": [
    "p_est = (df1_prop * df1_n + df2_prop * df2_n)/(df1_n + df2_n)\n",
    "p_est"
   ]
  },
  {
   "cell_type": "markdown",
   "metadata": {},
   "source": [
    "Ahora, claculamos el estadistico de prueba:"
   ]
  },
  {
   "cell_type": "code",
   "execution_count": 26,
   "metadata": {},
   "outputs": [
    {
     "data": {
      "text/plain": [
       "-0.10238095238093846"
      ]
     },
     "execution_count": 26,
     "metadata": {},
     "output_type": "execute_result"
    }
   ],
   "source": [
    "z = (df1_prop - df2_prop)/(p_est*(1-p_est)*(1/df1_n + 1/df2_n))\n",
    "z"
   ]
  },
  {
   "cell_type": "markdown",
   "metadata": {},
   "source": [
    "Sabemos que el valor critico de la distribucion normal estándar al 95% de confianza es 1.96:"
   ]
  },
  {
   "cell_type": "code",
   "execution_count": 27,
   "metadata": {},
   "outputs": [
    {
     "data": {
      "text/plain": [
       "1.959963984540054"
      ]
     },
     "execution_count": 27,
     "metadata": {},
     "output_type": "execute_result"
    }
   ],
   "source": [
    "z_tabla = norm().ppf(0.975)\n",
    "z_tabla"
   ]
  },
  {
   "cell_type": "markdown",
   "metadata": {},
   "source": [
    "Como el valor calculado del estadistico (en valor absoluto) es **menor** que el valor crítico, entonces **no se rechaza** la hipótesis nula. Por lo tanto, no existe evidencia para asegurar que el porcentaje de capacitados entre quienes tienen educación superior es distinto al porcentaje de capacitados entre quienes no tienen educación superior."
   ]
  }
 ],
 "metadata": {
  "kernelspec": {
   "display_name": "Python 3",
   "language": "python",
   "name": "python3"
  },
  "language_info": {
   "codemirror_mode": {
    "name": "ipython",
    "version": 3
   },
   "file_extension": ".py",
   "mimetype": "text/x-python",
   "name": "python",
   "nbconvert_exporter": "python",
   "pygments_lexer": "ipython3",
   "version": "3.9.13"
  }
 },
 "nbformat": 4,
 "nbformat_minor": 2
}
