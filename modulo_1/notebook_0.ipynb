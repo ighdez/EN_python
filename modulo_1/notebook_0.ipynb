{
 "cells": [
  {
   "cell_type": "markdown",
   "metadata": {},
   "source": [
    "# Estadistica para negocios\n",
    "## Familiarizandonos con Python y Jupyter\n",
    "\n",
    "En este notebook, daremos nuestros primeros pasos en Python y Jupyter. Por una parte, Python es un lenguage de programación con capacidades estadisticas, utilizado ampliamente en las areas de la ciencia de datos. Por otra parte, Jupyter provee _notebooks_, archivos interactivos (como este) que permiten ejecutar codigo en vivo y combinarlo con texto.\n",
    "\n",
    "Cuando Ud. ocupa Python normalmente, se deben escribir scripts y ejecutarlos paso a paso. Esto puede hacer tedioso el aprendizaje de Python cuando el foco es aplicaciones estadisticas. Para ello, Jupyter provee un entorno más amigable.\n",
    "\n",
    "## Primeros pasos:\n",
    "\n",
    "A continuación, tenemos una linea de código:"
   ]
  },
  {
   "cell_type": "code",
   "execution_count": null,
   "metadata": {},
   "outputs": [],
   "source": [
    "import numpy as np"
   ]
  },
  {
   "cell_type": "markdown",
   "metadata": {},
   "source": [
    "La linea anterior se diferencia de esta, en el sentido de que contiene (o puede contener) código ejecutable en Python. Haga click en el botón que tiene una forma de flecha hacia adelante para ejecutar el código.\n",
    "\n",
    "Una vez ejecutado, Python importó el modulo NumPy (`numpy`), y se importa bajo el pseudonimo de `np`. NumPy es un paquete de utilidades numericas para Python, tales como:\n",
    "\n",
    "- Crear vectores, matrices, etc.\n",
    "- Operaciones entre los elementos nombrados anteriormente,\n",
    "- Elementos de algebra lineal,\n",
    "- Generadores de numeros aleatorios,\n",
    "\n",
    "...y un largo etcetera.\n",
    "\n",
    "*Siempre puede reiniciar Jupyter* usando el boton _restart_\n",
    "\n",
    "Ademas de escribir texto, es posible agregar _comentarios_ dentro del codigo. Un comentario es una linea que permite al usuario describir lo que se esta haciendo. Los comentarios no son considerados como código ejecutable por Python.\n",
    "\n",
    "Para agregar un comentario, puede hacerlo colocando el signo `#` antes de lo que desee escribir:"
   ]
  },
  {
   "cell_type": "code",
   "execution_count": null,
   "metadata": {},
   "outputs": [],
   "source": [
    "# Esto es un comentario"
   ]
  },
  {
   "cell_type": "markdown",
   "metadata": {},
   "source": [
    "Tambien, puede colocar comentarios luego de una linea de codigo:"
   ]
  },
  {
   "cell_type": "code",
   "execution_count": null,
   "metadata": {},
   "outputs": [],
   "source": [
    "import numpy as np # Esto tambien es un comentario"
   ]
  },
  {
   "cell_type": "markdown",
   "metadata": {},
   "source": [
    "# Realizando operaciones basicas:\n",
    "\n",
    "Python incorpora los operadores numericos basicos: suma, resta, multiplicacion y division.\n",
    "\n",
    "A continuacion, revisaremos algunos de ellos. Para mostrarlos en la pantalla, usaremos la funcion `print()`. Esta funcion permite mostrar en pantalla lo que esta dentro del parentesis:"
   ]
  },
  {
   "cell_type": "code",
   "execution_count": 1,
   "metadata": {},
   "outputs": [
    {
     "name": "stdout",
     "output_type": "stream",
     "text": [
      "4\n",
      "0\n",
      "6\n",
      "0.6666666666666666\n"
     ]
    }
   ],
   "source": [
    "print(2+2) # suma\n",
    "print(2-2) # resta\n",
    "print(2*3) # multiplicacion\n",
    "print(2/3) # division"
   ]
  }
 ],
 "metadata": {
  "kernelspec": {
   "display_name": "Python 3",
   "language": "python",
   "name": "python3"
  },
  "language_info": {
   "codemirror_mode": {
    "name": "ipython",
    "version": 3
   },
   "file_extension": ".py",
   "mimetype": "text/x-python",
   "name": "python",
   "nbconvert_exporter": "python",
   "pygments_lexer": "ipython3",
   "version": "3.10.12"
  }
 },
 "nbformat": 4,
 "nbformat_minor": 2
}
